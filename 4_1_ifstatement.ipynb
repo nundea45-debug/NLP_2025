{
  "nbformat": 4,
  "nbformat_minor": 0,
  "metadata": {
    "colab": {
      "provenance": [],
      "include_colab_link": true
    },
    "kernelspec": {
      "name": "python3",
      "display_name": "Python 3"
    },
    "language_info": {
      "name": "python"
    }
  },
  "cells": [
    {
      "cell_type": "markdown",
      "metadata": {
        "id": "view-in-github",
        "colab_type": "text"
      },
      "source": [
        "<a href=\"https://colab.research.google.com/github/nundea45-debug/NLP_2025/blob/main/4_1_ifstatement.ipynb\" target=\"_parent\"><img src=\"https://colab.research.google.com/assets/colab-badge.svg\" alt=\"Open In Colab\"/></a>"
      ]
    },
    {
      "cell_type": "markdown",
      "source": [
        "### 🐾  Some useful tips for statements (e.g., if, for, while, etc.), functions or class\n",
        "\n",
        "1️⃣ The code line including a statement or a definition should end with a colon (:).\n",
        "\n",
        "2️⃣ Following executable codes should be indicated by indentation. When you hit the ENTER key for a second code line, indentation is automatically generated. However, when indentation disappears for some reason, you can do this with a tab or a spacebar.\n",
        "\n",
        "3️⃣ All executable code lines should have regular intervals."
      ],
      "metadata": {
        "id": "h2WMM5L89Ra7"
      }
    },
    {
      "cell_type": "code",
      "source": [
        "x = 100\n",
        "y = 95\n",
        "if x > y :\n",
        "  print('x is greater than y.')\n",
        "\n",
        "else :\n",
        "    print('x smaller than or equal y.')"
      ],
      "metadata": {
        "colab": {
          "base_uri": "https://localhost:8080/"
        },
        "id": "dKONQOndpTnf",
        "outputId": "787134ab-738e-4677-fd33-aae615028016"
      },
      "execution_count": null,
      "outputs": [
        {
          "output_type": "stream",
          "name": "stdout",
          "text": [
            "x is greater than y.\n"
          ]
        }
      ]
    },
    {
      "cell_type": "code",
      "source": [
        "x=100\n",
        "y=95\n",
        "\n",
        "if x>y:\n",
        "  print('x is greater than y.')\n",
        "\n",
        "\n",
        "else:\n",
        "  print('x is smaller than or equal to y.')"
      ],
      "metadata": {
        "id": "es9O3MH9wKPz"
      },
      "execution_count": null,
      "outputs": []
    },
    {
      "cell_type": "code",
      "source": [
        "x = 0\n",
        "y = 0\n",
        "\n",
        "if x > y :\n",
        "  print('x is greater than y.')\n",
        "\n",
        "else :\n",
        "  print('x is smaller than or equal to y.')"
      ],
      "metadata": {
        "colab": {
          "base_uri": "https://localhost:8080/"
        },
        "id": "_2Wn8AFbp4__",
        "outputId": "336d9b6f-20c4-4ffa-dc39-d89d06a0001a"
      },
      "execution_count": null,
      "outputs": [
        {
          "output_type": "stream",
          "name": "stdout",
          "text": [
            "x is smaller than or equal to y.\n"
          ]
        }
      ]
    },
    {
      "cell_type": "code",
      "source": [
        "x=0\n",
        "y=0\n",
        "\n",
        "if x > y:\n",
        "  print('x is greater than y')\n",
        "\n",
        "else:\n",
        "  print('x is smaller than or equal to y')"
      ],
      "metadata": {
        "id": "0EEhWrh3nNih"
      },
      "execution_count": null,
      "outputs": []
    },
    {
      "cell_type": "code",
      "source": [
        "x = 345\n",
        "y = 678\n",
        "\n",
        "if x > y:\n",
        "  print('x is greater than y')\n",
        "\n",
        "else:\n",
        "  print('x is smaller than or equal to y')"
      ],
      "metadata": {
        "colab": {
          "base_uri": "https://localhost:8080/"
        },
        "id": "U57ZN_imqEPn",
        "outputId": "6095ea37-bb19-471a-f2ed-705f0709d077"
      },
      "execution_count": null,
      "outputs": [
        {
          "output_type": "stream",
          "name": "stdout",
          "text": [
            "x is smaller than or equal to y\n"
          ]
        }
      ]
    },
    {
      "cell_type": "code",
      "source": [
        "x=345\n",
        "y=678\n",
        "\n",
        "if x>y:\n",
        "  print('x is greater than y.')\n",
        "\n",
        "\n",
        "else:\n",
        "  print('x is smaller than or equal to y.')"
      ],
      "metadata": {
        "id": "khsWyYCvspkL"
      },
      "execution_count": null,
      "outputs": []
    },
    {
      "cell_type": "code",
      "source": [
        "listdata = ['a', 'b', 'c']\n",
        "if 'd' in listdata :\n",
        "  print('a가 listdata 안에 있습니다.')\n",
        "\n",
        "print(listdata)"
      ],
      "metadata": {
        "colab": {
          "base_uri": "https://localhost:8080/"
        },
        "id": "ucQAP92OqPgG",
        "outputId": "2adc62ee-46e5-4755-92d7-e44e93db6f57"
      },
      "execution_count": null,
      "outputs": [
        {
          "output_type": "stream",
          "name": "stdout",
          "text": [
            "['a', 'b', 'c']\n"
          ]
        }
      ]
    },
    {
      "cell_type": "code",
      "source": [
        "listdata = ['a', 'b', 'c']\n",
        "if 'a' in listdata:\n",
        "  print ('a가 listdata 안에 있습니다.')\n",
        "  print(listdata)\n"
      ],
      "metadata": {
        "id": "iS8myQoGAY1U"
      },
      "execution_count": null,
      "outputs": []
    },
    {
      "cell_type": "markdown",
      "source": [
        "## 🔍 <font color='purple'> Relating issues of if statements are evailable in chapters 09 ~ 10 of 파이썬 200제 ."
      ],
      "metadata": {
        "id": "4kbHc0C8Cn40"
      }
    }
  ]
}